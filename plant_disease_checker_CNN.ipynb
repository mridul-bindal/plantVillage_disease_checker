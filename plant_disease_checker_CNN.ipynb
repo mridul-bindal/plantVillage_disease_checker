{
  "nbformat": 4,
  "nbformat_minor": 0,
  "metadata": {
    "colab": {
      "provenance": [],
      "authorship_tag": "ABX9TyPFRgD0qZqR8LWhATtpSC42",
      "include_colab_link": true
    },
    "kernelspec": {
      "name": "python3",
      "display_name": "Python 3"
    },
    "language_info": {
      "name": "python"
    }
  },
  "cells": [
    {
      "cell_type": "markdown",
      "metadata": {
        "id": "view-in-github",
        "colab_type": "text"
      },
      "source": [
        "<a href=\"https://colab.research.google.com/github/mridul-bindal/plantVillage_disease_checker/blob/main/plant_disease_checker_CNN.ipynb\" target=\"_parent\"><img src=\"https://colab.research.google.com/assets/colab-badge.svg\" alt=\"Open In Colab\"/></a>"
      ]
    },
    {
      "cell_type": "code",
      "source": [
        "!git config --global user.name \"mridul-bindal\"\n",
        "!git config --global user.email \"mridulbindal4@gmail.com\""
      ],
      "metadata": {
        "id": "XW9uJIHKi3_Q"
      },
      "execution_count": 7,
      "outputs": []
    },
    {
      "cell_type": "code",
      "source": [
        "!git config --global user.email"
      ],
      "metadata": {
        "colab": {
          "base_uri": "https://localhost:8080/"
        },
        "id": "Dc1LXjtEjYt0",
        "outputId": "eaffc977-525c-4caa-abdf-6920c1a0f729"
      },
      "execution_count": 8,
      "outputs": [
        {
          "output_type": "stream",
          "name": "stdout",
          "text": [
            "mridulbindal4@gmail.com\n"
          ]
        }
      ]
    },
    {
      "cell_type": "code",
      "source": [
        "!git plant_disease_checker_CNN.ipynb\n",
        "!git commit -m \"Added notebook from Colab\""
      ],
      "metadata": {
        "colab": {
          "base_uri": "https://localhost:8080/"
        },
        "id": "sz0SHpl9jovj",
        "outputId": "aff7c02b-129f-4475-fbb3-152dbecf8f53"
      },
      "execution_count": 9,
      "outputs": [
        {
          "output_type": "stream",
          "name": "stdout",
          "text": [
            "git: 'plant_disease_checker_CNN.ipynb' is not a git command. See 'git --help'.\n",
            "fatal: not a git repository (or any of the parent directories): .git\n"
          ]
        }
      ]
    },
    {
      "cell_type": "code",
      "source": [],
      "metadata": {
        "id": "7GRlsH2skLZr"
      },
      "execution_count": null,
      "outputs": []
    }
  ]
}